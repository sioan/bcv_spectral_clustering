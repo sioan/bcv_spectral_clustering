{
 "cells": [
  {
   "cell_type": "code",
   "execution_count": 107,
   "metadata": {},
   "outputs": [
    {
     "data": {
      "text/plain": [
       "<module 'lib.bi_cross_support' from '/reg/neh/home5/sioan/Desktop/git_version_controlled/bcv_spectral_clustering/lib/bi_cross_support.py'>"
      ]
     },
     "execution_count": 107,
     "metadata": {},
     "output_type": "execute_result"
    }
   ],
   "source": [
    "from sklearn import cluster\n",
    "from sklearn.cluster import KMeans\n",
    "from sklearn import manifold\n",
    "from sklearn.manifold import spectral_embedding\n",
    "from sklearn import svm\n",
    "from sklearn import datasets\n",
    "from sklearn.base import BaseEstimator\n",
    "from sklearn.utils import check_random_state, check_array, check_symmetric\n",
    "from sklearn.utils.extmath import _deterministic_vector_sign_flip\n",
    "from sklearn.metrics.pairwise import rbf_kernel\n",
    "from sklearn.neighbors import kneighbors_graph\n",
    "\n",
    "from scipy import stats\n",
    "from scipy import sparse\n",
    "from scipy.linalg import eigh\n",
    "from scipy.sparse.linalg import eigsh, lobpcg\n",
    "from scipy.sparse.csgraph import connected_components\n",
    "from scipy.sparse.csgraph import laplacian as csgraph_laplacian\n",
    "\n",
    "from matplotlib import pyplot as plt\n",
    "from importlib import reload\n",
    "\n",
    "import scipy\n",
    "import numpy as np\n",
    "\n",
    "import matplotlib as mpl\n",
    "import warnings\n",
    "import random\n",
    "import itertools\n",
    "import lib\n",
    "import inspect\n",
    "import time\n",
    "\n",
    "from lib import bi_cross_support\n",
    "from lib import spectral_cluster_support\n",
    "reload(spectral_cluster_support)\n",
    "reload(bi_cross_support)\n"
   ]
  },
  {
   "cell_type": "code",
   "execution_count": 165,
   "metadata": {},
   "outputs": [
    {
     "name": "stdout",
     "output_type": "stream",
     "text": [
      "(1000, 206)\n"
     ]
    }
   ],
   "source": [
    "my_matrix = np.random.rand(1000,7)\n",
    "my_matrix = np.dot(my_matrix,np.random.rand(7,206))\n",
    "print(my_matrix.shape)"
   ]
  },
  {
   "cell_type": "code",
   "execution_count": 193,
   "metadata": {},
   "outputs": [
    {
     "name": "stdout",
     "output_type": "stream",
     "text": [
      "(1000, 206)\n"
     ]
    }
   ],
   "source": [
    "rand_size = 13\n",
    "n_features = 206\n",
    "n_samples = 1000\n",
    "my_matrix = stats.ortho_group.rvs(rand_size)\n",
    "my_matrix = np.dot(my_matrix,np.random.rand(rand_size,n_features))\n",
    "my_matrix = np.dot(np.random.rand(n_samples,rand_size),my_matrix)+np.random.rand(n_samples,n_features)*1e-1\n",
    "print(my_matrix.shape)"
   ]
  },
  {
   "cell_type": "code",
   "execution_count": 194,
   "metadata": {},
   "outputs": [
    {
     "data": {
      "text/plain": [
       "13.0"
      ]
     },
     "execution_count": 194,
     "metadata": {},
     "output_type": "execute_result"
    }
   ],
   "source": [
    "my_prediction = bi_cross_support.predict_vs_k(my_matrix,k_list=np.arange(1,int(my_matrix.shape[1]/1)))\n",
    "k,scores = np.array([i for i in my_prediction]).transpose()\n",
    "k[np.argmin(scores)]"
   ]
  },
  {
   "cell_type": "code",
   "execution_count": 195,
   "metadata": {},
   "outputs": [
    {
     "data": {
      "text/plain": [
       "[<matplotlib.lines.Line2D at 0x7f6b14f0a3c8>]"
      ]
     },
     "execution_count": 195,
     "metadata": {},
     "output_type": "execute_result"
    },
    {
     "data": {
      "image/png": "[encoded data removed]",
      "text/plain": [
       "<Figure size 432x288 with 1 Axes>"
      ]
     },
     "metadata": {
      "needs_background": "light"
     },
     "output_type": "display_data"
    }
   ],
   "source": [
    "plt.semilogy(k,scores)"
   ]
  },
  {
   "cell_type": "code",
   "execution_count": 196,
   "metadata": {},
   "outputs": [
    {
     "name": "stdout",
     "output_type": "stream",
     "text": [
      "Progress: [####################] 100.0%\n"
     ]
    }
   ],
   "source": [
    "k,score_list = bi_cross_support.score_fast(my_matrix,n_iterations=30,k_list=np.arange(1,int(my_matrix.shape[1]/2)))"
   ]
  },
  {
   "cell_type": "code",
   "execution_count": 197,
   "metadata": {},
   "outputs": [
    {
     "data": {
      "text/plain": [
       "[<matplotlib.lines.Line2D at 0x7f6b14db1f28>]"
      ]
     },
     "execution_count": 197,
     "metadata": {},
     "output_type": "execute_result"
    },
    {
     "data": {
      "image/png": "[encoded data removed]",
      "text/plain": [
       "<Figure size 432x288 with 1 Axes>"
      ]
     },
     "metadata": {
      "needs_background": "light"
     },
     "output_type": "display_data"
    }
   ],
   "source": [
    "plt.semilogy(k,np.median(score_list,axis=0))"
   ]
  },
  {
   "cell_type": "code",
   "execution_count": 198,
   "metadata": {},
   "outputs": [
    {
     "data": {
      "text/plain": [
       "13.0"
      ]
     },
     "execution_count": 198,
     "metadata": {},
     "output_type": "execute_result"
    }
   ],
   "source": [
    "k[np.argmin(np.median(score_list,axis=0))]"
   ]
  },
  {
   "cell_type": "code",
   "execution_count": null,
   "metadata": {},
   "outputs": [],
   "source": []
  }
 ],
 "metadata": {
  "kernelspec": {
   "display_name": "py3-10-18",
   "language": "python",
   "name": "py3-10-18"
  },
  "language_info": {
   "codemirror_mode": {
    "name": "ipython",
    "version": 3
   },
   "file_extension": ".py",
   "mimetype": "text/x-python",
   "name": "python",
   "nbconvert_exporter": "python",
   "pygments_lexer": "ipython3",
   "version": "3.7.0"
  }
 },
 "nbformat": 4,
 "nbformat_minor": 2
}
