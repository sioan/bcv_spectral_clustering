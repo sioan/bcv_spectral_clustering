{
 "cells": [
  {
   "cell_type": "markdown",
   "metadata": {},
   "source": [
    "# systematic studies spectral clustering"
   ]
  },
  {
   "cell_type": "markdown",
   "metadata": {},
   "source": [
    "## basic example from sklearn website (with plotting added)"
   ]
  },
  {
   "cell_type": "code",
   "execution_count": 2,
   "metadata": {},
   "outputs": [],
   "source": [
    "from sklearn import cluster\n",
    "from sklearn.cluster import KMeans\n",
    "from sklearn import manifold\n",
    "from sklearn.manifold import spectral_embedding\n",
    "from sklearn import svm\n",
    "from sklearn import datasets\n",
    "import numpy as np\n",
    "from matplotlib import pyplot as plt\n",
    "from scipy import stats\n",
    "import warnings\n",
    "import random\n",
    "import scipy\n",
    "from scipy import stats\n",
    "import itertools\n",
    "from importlib import reload\n",
    "import pandas as pd\n",
    "import inspect\n",
    "import zmq\n",
    "import time\n",
    "import sys\n",
    "import tables\n",
    "import subprocess"
   ]
  },
  {
   "cell_type": "code",
   "execution_count": 3,
   "metadata": {},
   "outputs": [],
   "source": [
    "import numpy as np\n",
    "from scipy import sparse\n",
    "from scipy.linalg import eigh\n",
    "from scipy.sparse.linalg import eigsh, lobpcg\n",
    "from scipy.sparse.csgraph import connected_components\n",
    "from scipy.sparse.csgraph import laplacian as csgraph_laplacian\n",
    "\n",
    "from sklearn.base import BaseEstimator\n",
    "from sklearn.utils import check_random_state, check_array, check_symmetric\n",
    "from sklearn.utils.extmath import _deterministic_vector_sign_flip\n",
    "from sklearn.metrics.pairwise import rbf_kernel\n",
    "from sklearn.neighbors import kneighbors_graph"
   ]
  },
  {
   "cell_type": "code",
   "execution_count": 4,
   "metadata": {},
   "outputs": [
    {
     "data": {
      "text/plain": [
       "<module 'lib.spectral_cluster_support' from '/reg/neh/home5/sioan/Desktop/git_version_controlled/examples_for_learning/spectral/lib/spectral_cluster_support.py'>"
      ]
     },
     "execution_count": 4,
     "metadata": {},
     "output_type": "execute_result"
    }
   ],
   "source": [
    "from lib import bi_cross_support\n",
    "from lib import spectral_cluster_support\n",
    "reload(spectral_cluster_support)"
   ]
  },
  {
   "cell_type": "code",
   "execution_count": 5,
   "metadata": {},
   "outputs": [],
   "source": [
    "def make_plots(k_range,median_MSE_list,mean_MSE_list):\n",
    "    #plt.errorbar(np.arange(2,max_k),median_MSE_list,yerr=(std_MSE_list))\n",
    "    plt.semilogy(k_range,median_MSE_list)\n",
    "    #plt.ylim(0.9*np.min(median_MSE_list),1.25*np.min(median_MSE_list))\n",
    "    #plt.ylim(0,1e5)\n",
    "    plt.ylabel(\"median of MSE\")\n",
    "    plt.xticks(k_range)\n",
    "    plt.xlabel(\"k\")\n",
    "    #plt.show()\n",
    "    plt.semilogy(k_range,mean_MSE_list)\n",
    "    #plt.errorbar(np.arange(2,max_k),mean_MSE_list,yerr=(std_MSE_list))\n",
    "    #plt.ylim(0.9*np.min(mean_MSE_list),1.25*np.min(mean_MSE_list))\n",
    "    plt.xticks(k_range)\n",
    "    plt.xlabel(\"k\")\n",
    "    plt.ylabel(\"mean of MSE\")\n",
    "    plt.show()"
   ]
  },
  {
   "cell_type": "code",
   "execution_count": 6,
   "metadata": {},
   "outputs": [],
   "source": [
    "#make_plots(k_range,median_MSE_list,mean_MSE_list)"
   ]
  },
  {
   "cell_type": "markdown",
   "metadata": {},
   "source": [
    "## redoing systematic investigation below, but with pandas objects and in a way to prevent revaluating same data."
   ]
  },
  {
   "cell_type": "code",
   "execution_count": 102,
   "metadata": {},
   "outputs": [],
   "source": [
    "base_dict                                      = {}\n",
    "scan_dict                                      = {}\n",
    "\n",
    "df                                             = pd.DataFrame()\n",
    "\n",
    "\n",
    "base_dict['n_iterations']                      = np.array([100],dtype=int)\n",
    "base_dict['n_samples']                         = np.array([150],dtype=int)\n",
    "base_dict['affinity']                          = np.array(['rbf'],dtype=str)\n",
    "\n",
    "base_dict['regularization_parameter']          = 10**np.arange(-11.0,-8,0.3)\n",
    "#base_dict['gamma']                             = 10**np.arange(-2.0,2.0,0.2)\n",
    "base_dict['gamma']                             = np.array([1])\n",
    "#base_dict['centers']                           = np.arange(1,13)\n",
    "#base_dict['n_features']                        = np.array([1,2,7,8],dtype=int)\n",
    "#base_dict['cluster_std']                       = np.array([0.2,0.4,0.6,0.8],dtype=float)\n",
    "#base_dict['random_state']                      = np.array([151,170],dtype=int)\n",
    "\n",
    "\n",
    "#scan_dict['n_features']                        = np.arange(1,8)\n",
    "#scan_dict['cluster_std']                       = np.arange(0.01,1,0.2)\n",
    "#scan_dict['random_state']                      = np.array([151,170],dtype=int)\n",
    "\n",
    "\n",
    "#base_iterator = itertools.product([base_dict[i] for i in base_dict])\n",
    "def make_frame(base_dict):\n",
    "\n",
    "    this_df                                         = pd.DataFrame()\n",
    "    base_iterator                                   = itertools.product(*base_dict.values())\n",
    "\n",
    "    my_list                                         = np.array(list(base_iterator))\n",
    "    \n",
    "    for i,key in enumerate(base_dict): this_df[key] = np.array(my_list[:,i],dtype=base_dict[key].dtype)\n",
    "    \n",
    "    return this_df\n",
    "\n",
    "df = make_frame(base_dict)"
   ]
  },
  {
   "cell_type": "code",
   "execution_count": 103,
   "metadata": {},
   "outputs": [],
   "source": [
    "for i in scan_dict:df = df.append(make_frame({**base_dict,**{i:scan_dict[i]}}))"
   ]
  },
  {
   "cell_type": "code",
   "execution_count": 104,
   "metadata": {},
   "outputs": [
    {
     "data": {
      "image/png": "[encoded data removed]",
      "text/plain": [
       "<Figure size 432x288 with 1 Axes>"
      ]
     },
     "metadata": {
      "needs_background": "light"
     },
     "output_type": "display_data"
    }
   ],
   "source": [
    "#different number of points per cluster doesn't work too well.\n",
    "n_samples = 20\n",
    "random_state = 170\n",
    "n_centers = 12\n",
    "random_state=170\n",
    "\n",
    "X = datasets.make_blobs(n_samples=150, centers = 11,n_features=2,random_state=151,cluster_std=0.4)[0]\n",
    "\n",
    "#X = datasets.make_blobs(n_samples=n_samples*4, centers = 4,n_features=2,random_state=151,cluster_std=0.8)[0]/35\n",
    "#Y = datasets.make_blobs(n_samples=n_samples*5, centers = 5,n_features=2,random_state=151,cluster_std=0.8)[0]/35\n",
    "#Z = datasets.make_blobs(n_samples=n_samples*2, centers = 2,n_features=2,random_state=151,cluster_std=0.8)[0]/35\n",
    "#X =np.vstack([X/5,1+datasets.make_moons(n_samples=100, noise=.01)[0]/2])\n",
    "#X =np.vstack([X,np.array([1,0])+Y])\n",
    "#X =np.vstack([X,np.array([0,1])+Z])\n",
    "\n",
    "\n",
    "\n",
    "plt.scatter(X[:,0],X[:,1],alpha=1)\n",
    "plt.show()"
   ]
  },
  {
   "cell_type": "code",
   "execution_count": 105,
   "metadata": {},
   "outputs": [
    {
     "data": {
      "image/png": "[encoded data removed]",
      "text/plain": [
       "<Figure size 432x288 with 1 Axes>"
      ]
     },
     "metadata": {
      "needs_background": "light"
     },
     "output_type": "display_data"
    }
   ],
   "source": [
    "spectral = cluster.SpectralClustering(n_clusters=11,\n",
    "                                      assign_labels=\"discretize\",\n",
    "                                      random_state=0,\n",
    "                                      gamma=.2,\n",
    "                                      #affinity = 'nearest_neighbors',\n",
    "                                      affinity = 'rbf'\n",
    "                                      #n_neighbors=8\n",
    "                                     )\n",
    "spectral.fit(X)\n",
    "plt.scatter(X[:,0],X[:,1],c=spectral.labels_,alpha = 0.4)\n",
    "plt.show()"
   ]
  },
  {
   "cell_type": "code",
   "execution_count": 106,
   "metadata": {},
   "outputs": [],
   "source": [
    "def get_number_of_clusters_df(*args,**kwargs):\n",
    "    df = pd.DataFrame()\n",
    "    temp_list = spectral_cluster_support.get_number_of_clusters(*args,**kwargs)\n",
    "    condition_number,df['k_range'],df['median_MSE'],df['mean_MSE'],df['std_MSE'] = temp_list\n",
    "    df['condition_number'] = condition_number*np.ones(df['k_range'].shape[0])\n",
    "   \n",
    "    return df\n",
    "\n",
    "def get_relevant_keys_from_df(df,target_function):\n",
    "    target_dict = {}\n",
    "    sig = inspect.signature(target_function)\n",
    "    for j in [{i:df[i]} for i in set(sig.parameters.keys()).intersection(set(df.keys()))]:\n",
    "        target_dict.update(j)\n",
    "    return target_dict\n",
    "\n",
    "results_df = pd.DataFrame()\n",
    "df_index_iterator = iter(range(len(df.index)))"
   ]
  },
  {
   "cell_type": "code",
   "execution_count": 107,
   "metadata": {},
   "outputs": [
    {
     "name": "stdout",
     "output_type": "stream",
     "text": [
      "38\n",
      "133\n"
     ]
    }
   ],
   "source": [
    "for i in df_index_iterator:\n",
    "        \n",
    "    #only passing the relevant kwargs to make blobs. \n",
    "    \n",
    "    get_n_cluster_dict = get_relevant_keys_from_df(df.iloc[i],spectral_cluster_support.get_number_of_clusters)\n",
    "    get_n_cluster_dict.update({'min_n_clusters':1,'max_n_clusters':20})\n",
    "    \n",
    "\n",
    "    \n",
    "    temp_df = get_number_of_clusters_df(X,**get_n_cluster_dict)\n",
    "    \n",
    "    for j in df: temp_df[j] = df[j].iloc[i]\n",
    "    \n",
    "    results_df = pd.concat([results_df,temp_df])\n",
    "    \n",
    "    if(i%5==1):\n",
    "         print(str(len(results_df)))\n",
    "\n",
    "output_df = results_df.copy()"
   ]
  },
  {
   "cell_type": "code",
   "execution_count": 108,
   "metadata": {},
   "outputs": [
    {
     "data": {
      "text/plain": [
       "10"
      ]
     },
     "execution_count": 108,
     "metadata": {},
     "output_type": "execute_result"
    }
   ],
   "source": [
    "len(df)"
   ]
  },
  {
   "cell_type": "code",
   "execution_count": 109,
   "metadata": {},
   "outputs": [],
   "source": [
    "git_hash = subprocess.check_output([\"git\", \"rev-parse\",\"HEAD\"]).strip()\n",
    "#git_hash = subprocess.check_output([\"git\", \"-l\"]).strip()\n",
    "\n",
    "output_df = results_df.copy()\n",
    "metadata_df = pd.DataFrame()\n",
    "metadata_df['githash'] = np.array([str(git_hash)[2:-1]])"
   ]
  },
  {
   "cell_type": "code",
   "execution_count": 110,
   "metadata": {},
   "outputs": [],
   "source": [
    "output_df.to_hdf(\"data_sigma.h5\",key='df',mode='w')\n",
    "metadata_df.to_hdf(\"data_sigma.h5\",key='metadata',mode='a')"
   ]
  },
  {
   "cell_type": "code",
   "execution_count": null,
   "metadata": {},
   "outputs": [],
   "source": []
  }
 ],
 "metadata": {
  "kernelspec": {
   "display_name": "py3-10-18",
   "language": "python",
   "name": "py3-10-18"
  },
  "language_info": {
   "codemirror_mode": {
    "name": "ipython",
    "version": 3
   },
   "file_extension": ".py",
   "mimetype": "text/x-python",
   "name": "python",
   "nbconvert_exporter": "python",
   "pygments_lexer": "ipython3",
   "version": "3.7.0"
  }
 },
 "nbformat": 4,
 "nbformat_minor": 2
}
